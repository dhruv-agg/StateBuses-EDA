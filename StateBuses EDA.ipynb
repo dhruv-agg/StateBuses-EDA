{
 "cells": [
  {
   "cell_type": "markdown",
   "metadata": {},
   "source": [
    "##### Data import and preprocessing"
   ]
  },
  {
   "cell_type": "code",
   "execution_count": 1,
   "metadata": {},
   "outputs": [],
   "source": [
    "#import libraries\n",
    "import pandas as pd\n",
    "import numpy as np\n",
    "import matplotlib.pyplot as plt\n",
    "import seaborn as sns\n",
    "# Graphics in retina format are more sharp and legible\n",
    "%config InlineBackend.figure_format = 'retina'\n",
    "%matplotlib inline"
   ]
  },
  {
   "cell_type": "code",
   "execution_count": 2,
   "metadata": {},
   "outputs": [
    {
     "name": "stdout",
     "output_type": "stream",
     "text": [
      "data imported\n"
     ]
    }
   ],
   "source": [
    "#import data\n",
    "data = pd.read_csv('sample_data.csv')\n",
    "print (\"data imported\")"
   ]
  },
  {
   "cell_type": "code",
   "execution_count": 3,
   "metadata": {},
   "outputs": [
    {
     "name": "stdout",
     "output_type": "stream",
     "text": [
      "No. of Rows: 4012\n",
      "No. of Columns: 7\n"
     ]
    }
   ],
   "source": [
    "#Dimensions of data\n",
    "print(\"No. of Rows: {}\".format(data.shape[0]))\n",
    "print(\"No. of Columns: {}\".format(data.shape[1]))"
   ]
  },
  {
   "cell_type": "code",
   "execution_count": 4,
   "metadata": {
    "scrolled": true
   },
   "outputs": [
    {
     "data": {
      "text/html": [
       "<div>\n",
       "<style scoped>\n",
       "    .dataframe tbody tr th:only-of-type {\n",
       "        vertical-align: middle;\n",
       "    }\n",
       "\n",
       "    .dataframe tbody tr th {\n",
       "        vertical-align: top;\n",
       "    }\n",
       "\n",
       "    .dataframe thead th {\n",
       "        text-align: right;\n",
       "    }\n",
       "</style>\n",
       "<table border=\"1\" class=\"dataframe\">\n",
       "  <thead>\n",
       "    <tr style=\"text-align: right;\">\n",
       "      <th></th>\n",
       "      <th>order_date</th>\n",
       "      <th>route_no</th>\n",
       "      <th>from_stop</th>\n",
       "      <th>to_stop</th>\n",
       "      <th>departure_time</th>\n",
       "      <th>travel_date</th>\n",
       "      <th>passengers_booked_index</th>\n",
       "    </tr>\n",
       "  </thead>\n",
       "  <tbody>\n",
       "    <tr>\n",
       "      <th>0</th>\n",
       "      <td>24-12-2015 00:00</td>\n",
       "      <td>8192</td>\n",
       "      <td>2655</td>\n",
       "      <td>2790</td>\n",
       "      <td>19:00:00</td>\n",
       "      <td>20-02-2016 00:00</td>\n",
       "      <td>1.28547</td>\n",
       "    </tr>\n",
       "    <tr>\n",
       "      <th>1</th>\n",
       "      <td>2/1/2016 0:00</td>\n",
       "      <td>8192</td>\n",
       "      <td>2655</td>\n",
       "      <td>2790</td>\n",
       "      <td>19:00:00</td>\n",
       "      <td>6/2/2016 0:00</td>\n",
       "      <td>0.64260</td>\n",
       "    </tr>\n",
       "    <tr>\n",
       "      <th>2</th>\n",
       "      <td>26-12-2015 00:00</td>\n",
       "      <td>8192</td>\n",
       "      <td>2655</td>\n",
       "      <td>2790</td>\n",
       "      <td>19:00:00</td>\n",
       "      <td>6/2/2016 0:00</td>\n",
       "      <td>0.64260</td>\n",
       "    </tr>\n",
       "    <tr>\n",
       "      <th>3</th>\n",
       "      <td>13-03-2016 00:00</td>\n",
       "      <td>8192</td>\n",
       "      <td>2655</td>\n",
       "      <td>2790</td>\n",
       "      <td>19:00:00</td>\n",
       "      <td>12/5/2016 0:00</td>\n",
       "      <td>1.92834</td>\n",
       "    </tr>\n",
       "    <tr>\n",
       "      <th>4</th>\n",
       "      <td>25-03-2016 00:00</td>\n",
       "      <td>8192</td>\n",
       "      <td>2655</td>\n",
       "      <td>2790</td>\n",
       "      <td>19:00:00</td>\n",
       "      <td>12/5/2016 0:00</td>\n",
       "      <td>0.64260</td>\n",
       "    </tr>\n",
       "  </tbody>\n",
       "</table>\n",
       "</div>"
      ],
      "text/plain": [
       "         order_date  route_no  from_stop  to_stop departure_time  \\\n",
       "0  24-12-2015 00:00      8192       2655     2790       19:00:00   \n",
       "1     2/1/2016 0:00      8192       2655     2790       19:00:00   \n",
       "2  26-12-2015 00:00      8192       2655     2790       19:00:00   \n",
       "3  13-03-2016 00:00      8192       2655     2790       19:00:00   \n",
       "4  25-03-2016 00:00      8192       2655     2790       19:00:00   \n",
       "\n",
       "        travel_date  passengers_booked_index  \n",
       "0  20-02-2016 00:00                  1.28547  \n",
       "1     6/2/2016 0:00                  0.64260  \n",
       "2     6/2/2016 0:00                  0.64260  \n",
       "3    12/5/2016 0:00                  1.92834  \n",
       "4    12/5/2016 0:00                  0.64260  "
      ]
     },
     "execution_count": 4,
     "metadata": {},
     "output_type": "execute_result"
    }
   ],
   "source": [
    "data.head()"
   ]
  },
  {
   "cell_type": "code",
   "execution_count": 5,
   "metadata": {},
   "outputs": [
    {
     "name": "stdout",
     "output_type": "stream",
     "text": [
      "<class 'pandas.core.frame.DataFrame'>\n",
      "RangeIndex: 4012 entries, 0 to 4011\n",
      "Data columns (total 7 columns):\n",
      "order_date                 4012 non-null object\n",
      "route_no                   4012 non-null int64\n",
      "from_stop                  4012 non-null int64\n",
      "to_stop                    4012 non-null int64\n",
      "departure_time             4012 non-null object\n",
      "travel_date                4012 non-null object\n",
      "passengers_booked_index    4012 non-null float64\n",
      "dtypes: float64(1), int64(3), object(3)\n",
      "memory usage: 219.5+ KB\n"
     ]
    }
   ],
   "source": [
    "data.info()"
   ]
  },
  {
   "cell_type": "code",
   "execution_count": 6,
   "metadata": {},
   "outputs": [
    {
     "data": {
      "text/html": [
       "<div>\n",
       "<style scoped>\n",
       "    .dataframe tbody tr th:only-of-type {\n",
       "        vertical-align: middle;\n",
       "    }\n",
       "\n",
       "    .dataframe tbody tr th {\n",
       "        vertical-align: top;\n",
       "    }\n",
       "\n",
       "    .dataframe thead th {\n",
       "        text-align: right;\n",
       "    }\n",
       "</style>\n",
       "<table border=\"1\" class=\"dataframe\">\n",
       "  <thead>\n",
       "    <tr style=\"text-align: right;\">\n",
       "      <th></th>\n",
       "      <th>route_no</th>\n",
       "      <th>from_stop</th>\n",
       "      <th>to_stop</th>\n",
       "      <th>passengers_booked_index</th>\n",
       "    </tr>\n",
       "  </thead>\n",
       "  <tbody>\n",
       "    <tr>\n",
       "      <th>count</th>\n",
       "      <td>4012.000000</td>\n",
       "      <td>4012.000000</td>\n",
       "      <td>4012.000000</td>\n",
       "      <td>4012.000000</td>\n",
       "    </tr>\n",
       "    <tr>\n",
       "      <th>mean</th>\n",
       "      <td>75094.020937</td>\n",
       "      <td>3409.501496</td>\n",
       "      <td>3266.111665</td>\n",
       "      <td>2.094505</td>\n",
       "    </tr>\n",
       "    <tr>\n",
       "      <th>std</th>\n",
       "      <td>67164.734847</td>\n",
       "      <td>1939.082936</td>\n",
       "      <td>1635.676635</td>\n",
       "      <td>2.186126</td>\n",
       "    </tr>\n",
       "    <tr>\n",
       "      <th>min</th>\n",
       "      <td>8192.000000</td>\n",
       "      <td>2655.000000</td>\n",
       "      <td>2655.000000</td>\n",
       "      <td>0.642600</td>\n",
       "    </tr>\n",
       "    <tr>\n",
       "      <th>25%</th>\n",
       "      <td>9288.000000</td>\n",
       "      <td>2655.000000</td>\n",
       "      <td>2655.000000</td>\n",
       "      <td>0.642600</td>\n",
       "    </tr>\n",
       "    <tr>\n",
       "      <th>50%</th>\n",
       "      <td>63912.000000</td>\n",
       "      <td>2655.000000</td>\n",
       "      <td>2790.000000</td>\n",
       "      <td>1.285470</td>\n",
       "    </tr>\n",
       "    <tr>\n",
       "      <th>75%</th>\n",
       "      <td>63916.000000</td>\n",
       "      <td>2790.000000</td>\n",
       "      <td>2790.000000</td>\n",
       "      <td>2.571210</td>\n",
       "    </tr>\n",
       "    <tr>\n",
       "      <th>max</th>\n",
       "      <td>226556.000000</td>\n",
       "      <td>9540.000000</td>\n",
       "      <td>8370.000000</td>\n",
       "      <td>17.356950</td>\n",
       "    </tr>\n",
       "  </tbody>\n",
       "</table>\n",
       "</div>"
      ],
      "text/plain": [
       "            route_no    from_stop      to_stop  passengers_booked_index\n",
       "count    4012.000000  4012.000000  4012.000000              4012.000000\n",
       "mean    75094.020937  3409.501496  3266.111665                 2.094505\n",
       "std     67164.734847  1939.082936  1635.676635                 2.186126\n",
       "min      8192.000000  2655.000000  2655.000000                 0.642600\n",
       "25%      9288.000000  2655.000000  2655.000000                 0.642600\n",
       "50%     63912.000000  2655.000000  2790.000000                 1.285470\n",
       "75%     63916.000000  2790.000000  2790.000000                 2.571210\n",
       "max    226556.000000  9540.000000  8370.000000                17.356950"
      ]
     },
     "execution_count": 6,
     "metadata": {},
     "output_type": "execute_result"
    }
   ],
   "source": [
    "data.describe()"
   ]
  },
  {
   "cell_type": "code",
   "execution_count": 7,
   "metadata": {
    "scrolled": true
   },
   "outputs": [
    {
     "data": {
      "text/html": [
       "<div>\n",
       "<style scoped>\n",
       "    .dataframe tbody tr th:only-of-type {\n",
       "        vertical-align: middle;\n",
       "    }\n",
       "\n",
       "    .dataframe tbody tr th {\n",
       "        vertical-align: top;\n",
       "    }\n",
       "\n",
       "    .dataframe thead th {\n",
       "        text-align: right;\n",
       "    }\n",
       "</style>\n",
       "<table border=\"1\" class=\"dataframe\">\n",
       "  <thead>\n",
       "    <tr style=\"text-align: right;\">\n",
       "      <th></th>\n",
       "      <th>order_date</th>\n",
       "      <th>departure_time</th>\n",
       "      <th>travel_date</th>\n",
       "    </tr>\n",
       "  </thead>\n",
       "  <tbody>\n",
       "    <tr>\n",
       "      <th>count</th>\n",
       "      <td>4012</td>\n",
       "      <td>4012</td>\n",
       "      <td>4012</td>\n",
       "    </tr>\n",
       "    <tr>\n",
       "      <th>unique</th>\n",
       "      <td>319</td>\n",
       "      <td>6</td>\n",
       "      <td>220</td>\n",
       "    </tr>\n",
       "    <tr>\n",
       "      <th>top</th>\n",
       "      <td>18-06-2016 00:00</td>\n",
       "      <td>11:00:00</td>\n",
       "      <td>26-06-2016 00:00</td>\n",
       "    </tr>\n",
       "    <tr>\n",
       "      <th>freq</th>\n",
       "      <td>45</td>\n",
       "      <td>1927</td>\n",
       "      <td>72</td>\n",
       "    </tr>\n",
       "  </tbody>\n",
       "</table>\n",
       "</div>"
      ],
      "text/plain": [
       "              order_date departure_time       travel_date\n",
       "count               4012           4012              4012\n",
       "unique               319              6               220\n",
       "top     18-06-2016 00:00       11:00:00  26-06-2016 00:00\n",
       "freq                  45           1927                72"
      ]
     },
     "execution_count": 7,
     "metadata": {},
     "output_type": "execute_result"
    }
   ],
   "source": [
    "data.describe(include=['object'])"
   ]
  },
  {
   "cell_type": "code",
   "execution_count": 8,
   "metadata": {},
   "outputs": [
    {
     "data": {
      "text/plain": [
       "Index(['order_date', 'route_no', 'from_stop', 'to_stop', 'departure_time',\n",
       "       'travel_date', 'passengers_booked_index'],\n",
       "      dtype='object')"
      ]
     },
     "execution_count": 8,
     "metadata": {},
     "output_type": "execute_result"
    }
   ],
   "source": [
    "#clean whitespaces in columns names if any\n",
    "data.columns = [each.strip() for each in data.columns]\n",
    "data.columns"
   ]
  },
  {
   "cell_type": "code",
   "execution_count": 9,
   "metadata": {},
   "outputs": [
    {
     "data": {
      "text/html": [
       "<div>\n",
       "<style scoped>\n",
       "    .dataframe tbody tr th:only-of-type {\n",
       "        vertical-align: middle;\n",
       "    }\n",
       "\n",
       "    .dataframe tbody tr th {\n",
       "        vertical-align: top;\n",
       "    }\n",
       "\n",
       "    .dataframe thead th {\n",
       "        text-align: right;\n",
       "    }\n",
       "</style>\n",
       "<table border=\"1\" class=\"dataframe\">\n",
       "  <thead>\n",
       "    <tr style=\"text-align: right;\">\n",
       "      <th></th>\n",
       "      <th>order_date</th>\n",
       "      <th>route_no</th>\n",
       "      <th>from_stop</th>\n",
       "      <th>to_stop</th>\n",
       "      <th>departure_time</th>\n",
       "      <th>travel_date</th>\n",
       "      <th>passengers_booked_index</th>\n",
       "    </tr>\n",
       "  </thead>\n",
       "  <tbody>\n",
       "    <tr>\n",
       "      <th>0</th>\n",
       "      <td>24-12-2015 00:00</td>\n",
       "      <td>8192</td>\n",
       "      <td>2655</td>\n",
       "      <td>2790</td>\n",
       "      <td>19:00:00</td>\n",
       "      <td>20-02-2016 00:00</td>\n",
       "      <td>1.28547</td>\n",
       "    </tr>\n",
       "    <tr>\n",
       "      <th>1</th>\n",
       "      <td>2/1/2016 0:00</td>\n",
       "      <td>8192</td>\n",
       "      <td>2655</td>\n",
       "      <td>2790</td>\n",
       "      <td>19:00:00</td>\n",
       "      <td>6/2/2016 0:00</td>\n",
       "      <td>0.64260</td>\n",
       "    </tr>\n",
       "    <tr>\n",
       "      <th>2</th>\n",
       "      <td>26-12-2015 00:00</td>\n",
       "      <td>8192</td>\n",
       "      <td>2655</td>\n",
       "      <td>2790</td>\n",
       "      <td>19:00:00</td>\n",
       "      <td>6/2/2016 0:00</td>\n",
       "      <td>0.64260</td>\n",
       "    </tr>\n",
       "    <tr>\n",
       "      <th>3</th>\n",
       "      <td>13-03-2016 00:00</td>\n",
       "      <td>8192</td>\n",
       "      <td>2655</td>\n",
       "      <td>2790</td>\n",
       "      <td>19:00:00</td>\n",
       "      <td>12/5/2016 0:00</td>\n",
       "      <td>1.92834</td>\n",
       "    </tr>\n",
       "    <tr>\n",
       "      <th>4</th>\n",
       "      <td>25-03-2016 00:00</td>\n",
       "      <td>8192</td>\n",
       "      <td>2655</td>\n",
       "      <td>2790</td>\n",
       "      <td>19:00:00</td>\n",
       "      <td>12/5/2016 0:00</td>\n",
       "      <td>0.64260</td>\n",
       "    </tr>\n",
       "  </tbody>\n",
       "</table>\n",
       "</div>"
      ],
      "text/plain": [
       "         order_date  route_no  from_stop  to_stop departure_time  \\\n",
       "0  24-12-2015 00:00      8192       2655     2790       19:00:00   \n",
       "1     2/1/2016 0:00      8192       2655     2790       19:00:00   \n",
       "2  26-12-2015 00:00      8192       2655     2790       19:00:00   \n",
       "3  13-03-2016 00:00      8192       2655     2790       19:00:00   \n",
       "4  25-03-2016 00:00      8192       2655     2790       19:00:00   \n",
       "\n",
       "        travel_date  passengers_booked_index  \n",
       "0  20-02-2016 00:00                  1.28547  \n",
       "1     6/2/2016 0:00                  0.64260  \n",
       "2     6/2/2016 0:00                  0.64260  \n",
       "3    12/5/2016 0:00                  1.92834  \n",
       "4    12/5/2016 0:00                  0.64260  "
      ]
     },
     "execution_count": 9,
     "metadata": {},
     "output_type": "execute_result"
    }
   ],
   "source": [
    "#clean whitespaces in 'object' columns\n",
    "data.apply( lambda x: x.str.strip() if x.dtypes == 'object' else x )\n",
    "data.head()"
   ]
  },
  {
   "cell_type": "code",
   "execution_count": 10,
   "metadata": {},
   "outputs": [
    {
     "data": {
      "text/plain": [
       "order_date                 0\n",
       "route_no                   0\n",
       "from_stop                  0\n",
       "to_stop                    0\n",
       "departure_time             0\n",
       "travel_date                0\n",
       "passengers_booked_index    0\n",
       "dtype: int64"
      ]
     },
     "execution_count": 10,
     "metadata": {},
     "output_type": "execute_result"
    }
   ],
   "source": [
    "#check for missing values\n",
    "data.isna().sum()"
   ]
  },
  {
   "cell_type": "code",
   "execution_count": 11,
   "metadata": {},
   "outputs": [
    {
     "data": {
      "text/plain": [
       "order_date                  object\n",
       "route_no                     int64\n",
       "from_stop                    int64\n",
       "to_stop                      int64\n",
       "departure_time              object\n",
       "travel_date                 object\n",
       "passengers_booked_index    float64\n",
       "dtype: object"
      ]
     },
     "execution_count": 11,
     "metadata": {},
     "output_type": "execute_result"
    }
   ],
   "source": [
    "#check for dtypes of columns\n",
    "data.dtypes"
   ]
  },
  {
   "cell_type": "code",
   "execution_count": 12,
   "metadata": {},
   "outputs": [
    {
     "data": {
      "text/plain": [
       "order_date                 datetime64[ns]\n",
       "route_no                            int64\n",
       "from_stop                           int64\n",
       "to_stop                             int64\n",
       "departure_time                     object\n",
       "travel_date                datetime64[ns]\n",
       "passengers_booked_index           float64\n",
       "dtype: object"
      ]
     },
     "execution_count": 12,
     "metadata": {},
     "output_type": "execute_result"
    }
   ],
   "source": [
    "#order_date, departure_time,travel_date should be datetime objects\n",
    "date_cols = ['order_date','travel_date']\n",
    "for each in date_cols:\n",
    "    data[each] = pd.to_datetime(data[each])        \n",
    "data.dtypes"
   ]
  },
  {
   "cell_type": "code",
   "execution_count": 13,
   "metadata": {},
   "outputs": [],
   "source": [
    "#converting 'departure_time' to time object\n",
    "data['departure_time'] =pd.to_timedelta(data['departure_time'].str.strip())"
   ]
  },
  {
   "cell_type": "markdown",
   "metadata": {},
   "source": [
    "##### How many days before the travel date do passengers book their tickets?"
   ]
  },
  {
   "cell_type": "markdown",
   "metadata": {},
   "source": [
    "**advanceDays** = no. of days before the travel date passengers book their tickets"
   ]
  },
  {
   "cell_type": "code",
   "execution_count": 14,
   "metadata": {},
   "outputs": [],
   "source": [
    "#converting 'advanceDays' to datetime object\n",
    "data['advanceDays'] = (data['travel_date'] - data['order_date']).astype('timedelta64[D]')"
   ]
  },
  {
   "cell_type": "code",
   "execution_count": 15,
   "metadata": {
    "scrolled": true
   },
   "outputs": [
    {
     "data": {
      "text/plain": [
       "-320.0    1\n",
       "-304.0    2\n",
       "-293.0    1\n",
       "-292.0    3\n",
       "-291.0    2\n",
       "         ..\n",
       " 335.0    3\n",
       " 338.0    1\n",
       " 352.0    1\n",
       " 367.0    1\n",
       " 386.0    1\n",
       "Name: advanceDays, Length: 413, dtype: int64"
      ]
     },
     "execution_count": 15,
     "metadata": {},
     "output_type": "execute_result"
    }
   ],
   "source": [
    "data.advanceDays.value_counts().sort_index()"
   ]
  },
  {
   "cell_type": "code",
   "execution_count": 16,
   "metadata": {},
   "outputs": [],
   "source": [
    "data_anomaly = data.loc[data.advanceDays < 0]"
   ]
  },
  {
   "cell_type": "code",
   "execution_count": 17,
   "metadata": {},
   "outputs": [
    {
     "data": {
      "text/plain": [
       "(851, 8)"
      ]
     },
     "execution_count": 17,
     "metadata": {},
     "output_type": "execute_result"
    }
   ],
   "source": [
    "data_anomaly.shape"
   ]
  },
  {
   "cell_type": "code",
   "execution_count": 18,
   "metadata": {},
   "outputs": [
    {
     "data": {
      "text/plain": [
       "(-320.0, -7.0)"
      ]
     },
     "execution_count": 18,
     "metadata": {},
     "output_type": "execute_result"
    }
   ],
   "source": [
    "data_anomaly.advanceDays.min(), data_anomaly.advanceDays.max()"
   ]
  },
  {
   "cell_type": "code",
   "execution_count": 19,
   "metadata": {
    "scrolled": false
   },
   "outputs": [
    {
     "data": {
      "text/plain": [
       "order_date                 851\n",
       "route_no                   851\n",
       "from_stop                  851\n",
       "to_stop                    851\n",
       "departure_time             851\n",
       "travel_date                851\n",
       "passengers_booked_index    851\n",
       "advanceDays                851\n",
       "dtype: int64"
      ]
     },
     "execution_count": 19,
     "metadata": {},
     "output_type": "execute_result"
    }
   ],
   "source": [
    "data.loc[data.advanceDays < 0].count()"
   ]
  },
  {
   "cell_type": "markdown",
   "metadata": {},
   "source": [
    "**'advanceDays' is having negative values which have to be dropped**"
   ]
  },
  {
   "cell_type": "code",
   "execution_count": 20,
   "metadata": {},
   "outputs": [],
   "source": [
    "cleanData = data.loc[data.advanceDays >=0]"
   ]
  },
  {
   "cell_type": "code",
   "execution_count": 21,
   "metadata": {},
   "outputs": [
    {
     "name": "stdout",
     "output_type": "stream",
     "text": [
      "No. of Rows: 3161\n",
      "No. of Columns: 8\n"
     ]
    }
   ],
   "source": [
    "#Dimensions of data after removing anomaly rows\n",
    "print(\"No. of Rows: {}\".format(cleanData.shape[0]))\n",
    "print(\"No. of Columns: {}\".format(cleanData.shape[1]))"
   ]
  },
  {
   "cell_type": "code",
   "execution_count": 22,
   "metadata": {},
   "outputs": [
    {
     "data": {
      "text/plain": [
       "0.0    392\n",
       "1.0    223\n",
       "2.0    192\n",
       "3.0    162\n",
       "4.0    140\n",
       "Name: advanceDays, dtype: int64"
      ]
     },
     "execution_count": 22,
     "metadata": {},
     "output_type": "execute_result"
    }
   ],
   "source": [
    "cleanData.advanceDays.value_counts().head()"
   ]
  },
  {
   "cell_type": "markdown",
   "metadata": {},
   "source": [
    "###### Distribution of advance bookings"
   ]
  },
  {
   "cell_type": "code",
   "execution_count": 23,
   "metadata": {
    "scrolled": true
   },
   "outputs": [
    {
     "name": "stdout",
     "output_type": "stream",
     "text": [
      "Min no. of days people book tickets in advance 0.0\n",
      "Max no. of days people book tickets in advance 386.0\n"
     ]
    }
   ],
   "source": [
    "print(\"Min no. of days people book tickets in advance {}\".format(cleanData.advanceDays.min()))\n",
    "print(\"Max no. of days people book tickets in advance {}\".format(cleanData.advanceDays.max()))"
   ]
  },
  {
   "cell_type": "markdown",
   "metadata": {},
   "source": [
    "Passengers tend to book tickets in advance as **early as 386 days i.e. ~13 months** before travel or as **late as 0 days** i.e. on the day of travel"
   ]
  },
  {
   "cell_type": "markdown",
   "metadata": {},
   "source": [
    "##### How does above distribution vary across routes and departure times?"
   ]
  },
  {
   "cell_type": "code",
   "execution_count": 24,
   "metadata": {
    "scrolled": true
   },
   "outputs": [
    {
     "data": {
      "text/plain": [
       "226556     85\n",
       "190716    271\n",
       "190808    300\n",
       "9288      449\n",
       "8192      507\n",
       "63912     768\n",
       "63916     781\n",
       "Name: route_no, dtype: int64"
      ]
     },
     "execution_count": 24,
     "metadata": {},
     "output_type": "execute_result"
    }
   ],
   "source": [
    "cleanData.route_no.value_counts(dropna = False).sort_values()"
   ]
  },
  {
   "cell_type": "markdown",
   "metadata": {},
   "source": [
    "###### MostFrequentRoute & LeastFrequentRoute"
   ]
  },
  {
   "cell_type": "code",
   "execution_count": 25,
   "metadata": {
    "scrolled": true
   },
   "outputs": [
    {
     "data": {
      "text/plain": [
       "<matplotlib.axes._subplots.AxesSubplot at 0x26479a4a128>"
      ]
     },
     "execution_count": 25,
     "metadata": {},
     "output_type": "execute_result"
    },
    {
     "data": {
      "image/png": "[encoded data removed]",
      "text/plain": [
       "<Figure size 432x288 with 1 Axes>"
      ]
     },
     "metadata": {
      "image/png": {
       "height": 277,
       "width": 409
      },
      "needs_background": "light"
     },
     "output_type": "display_data"
    }
   ],
   "source": [
    "plt.xlabel('Bookings Count')\n",
    "plt.ylabel('Route No.')\n",
    "plt.title('Bookings across Routes')\n",
    "cleanData.route_no.value_counts(dropna = False).sort_values().plot(kind = 'barh', legend = True)"
   ]
  },
  {
   "cell_type": "markdown",
   "metadata": {},
   "source": [
    "**63916** & **63912** are the **most frequent routes** and **226556** is the **least frequent route**"
   ]
  },
  {
   "cell_type": "code",
   "execution_count": 26,
   "metadata": {
    "scrolled": true
   },
   "outputs": [
    {
     "data": {
      "text/html": [
       "<div>\n",
       "<style scoped>\n",
       "    .dataframe tbody tr th:only-of-type {\n",
       "        vertical-align: middle;\n",
       "    }\n",
       "\n",
       "    .dataframe tbody tr th {\n",
       "        vertical-align: top;\n",
       "    }\n",
       "\n",
       "    .dataframe thead th {\n",
       "        text-align: right;\n",
       "    }\n",
       "</style>\n",
       "<table border=\"1\" class=\"dataframe\">\n",
       "  <thead>\n",
       "    <tr style=\"text-align: right;\">\n",
       "      <th></th>\n",
       "      <th></th>\n",
       "      <th></th>\n",
       "      <th></th>\n",
       "      <th>advanceDays</th>\n",
       "    </tr>\n",
       "    <tr>\n",
       "      <th>route_no</th>\n",
       "      <th>from_stop</th>\n",
       "      <th>to_stop</th>\n",
       "      <th>departure_time</th>\n",
       "      <th></th>\n",
       "    </tr>\n",
       "  </thead>\n",
       "  <tbody>\n",
       "    <tr>\n",
       "      <th>8192</th>\n",
       "      <th>2655</th>\n",
       "      <th>2790</th>\n",
       "      <th>19:00:00</th>\n",
       "      <td>507.0</td>\n",
       "    </tr>\n",
       "    <tr>\n",
       "      <th>9288</th>\n",
       "      <th>2655</th>\n",
       "      <th>2790</th>\n",
       "      <th>18:30:00</th>\n",
       "      <td>449.0</td>\n",
       "    </tr>\n",
       "    <tr>\n",
       "      <th>63912</th>\n",
       "      <th>2655</th>\n",
       "      <th>2790</th>\n",
       "      <th>11:00:00</th>\n",
       "      <td>768.0</td>\n",
       "    </tr>\n",
       "    <tr>\n",
       "      <th>63916</th>\n",
       "      <th>2790</th>\n",
       "      <th>2655</th>\n",
       "      <th>11:00:00</th>\n",
       "      <td>781.0</td>\n",
       "    </tr>\n",
       "    <tr>\n",
       "      <th>190716</th>\n",
       "      <th>2655</th>\n",
       "      <th>8370</th>\n",
       "      <th>10:15:00</th>\n",
       "      <td>271.0</td>\n",
       "    </tr>\n",
       "    <tr>\n",
       "      <th>190808</th>\n",
       "      <th>8370</th>\n",
       "      <th>2655</th>\n",
       "      <th>12:00:00</th>\n",
       "      <td>300.0</td>\n",
       "    </tr>\n",
       "    <tr>\n",
       "      <th>226556</th>\n",
       "      <th>9540</th>\n",
       "      <th>2925</th>\n",
       "      <th>07:00:00</th>\n",
       "      <td>85.0</td>\n",
       "    </tr>\n",
       "  </tbody>\n",
       "</table>\n",
       "</div>"
      ],
      "text/plain": [
       "                                           advanceDays\n",
       "route_no from_stop to_stop departure_time             \n",
       "8192     2655      2790    19:00:00              507.0\n",
       "9288     2655      2790    18:30:00              449.0\n",
       "63912    2655      2790    11:00:00              768.0\n",
       "63916    2790      2655    11:00:00              781.0\n",
       "190716   2655      8370    10:15:00              271.0\n",
       "190808   8370      2655    12:00:00              300.0\n",
       "226556   9540      2925    07:00:00               85.0"
      ]
     },
     "execution_count": 26,
     "metadata": {},
     "output_type": "execute_result"
    }
   ],
   "source": [
    "pd.pivot_table(cleanData,index = [\"route_no\",\"from_stop\",\"to_stop\",\"departure_time\"], values = [\"advanceDays\"], aggfunc = len)"
   ]
  },
  {
   "cell_type": "markdown",
   "metadata": {},
   "source": [
    "- **63912 & 63916** are the same routes; travelling between the same stops\n",
    "- **8192, 9288 & 63912** serve the same route from stop 2655 to stop 2790 but passengers prefer 63912 due to its **departure time**"
   ]
  },
  {
   "cell_type": "code",
   "execution_count": 27,
   "metadata": {},
   "outputs": [
    {
     "data": {
      "text/plain": [
       "route_no\n",
       "226556    15.882353\n",
       "63916     40.903969\n",
       "63912     41.231771\n",
       "190716    45.173432\n",
       "9288      52.354120\n",
       "190808    55.483333\n",
       "8192      57.128205\n",
       "Name: advanceDays, dtype: float64"
      ]
     },
     "execution_count": 27,
     "metadata": {},
     "output_type": "execute_result"
    }
   ],
   "source": [
    "cleanData.groupby(by=['route_no'])['advanceDays'].mean().sort_values()"
   ]
  },
  {
   "cell_type": "code",
   "execution_count": 28,
   "metadata": {},
   "outputs": [
    {
     "data": {
      "text/plain": [
       "<matplotlib.axes._subplots.AxesSubplot at 0x2647bb0add8>"
      ]
     },
     "execution_count": 28,
     "metadata": {},
     "output_type": "execute_result"
    },
    {
     "data": {
      "image/png": "[encoded data removed]",
      "text/plain": [
       "<Figure size 432x288 with 1 Axes>"
      ]
     },
     "metadata": {
      "image/png": {
       "height": 277,
       "width": 408
      },
      "needs_background": "light"
     },
     "output_type": "display_data"
    }
   ],
   "source": [
    "plt.xlabel('Average AdvanceBooking Days')\n",
    "plt.ylabel('Route No.')\n",
    "plt.title('Average Advance Booking Days across Routes')\n",
    "cleanData.groupby(by=['route_no'])['advanceDays'].mean().sort_values().plot(kind = 'barh', legend = True)"
   ]
  },
  {
   "cell_type": "markdown",
   "metadata": {},
   "source": [
    "For the **least frequent route**, people book tickets **15 days** on average in advance while on the **most frequent routes** (63912, 63916) bookings happen **40 days** on average  in advance. "
   ]
  },
  {
   "cell_type": "markdown",
   "metadata": {},
   "source": [
    "###### AdvanceBookings & DepartureTime"
   ]
  },
  {
   "cell_type": "code",
   "execution_count": 29,
   "metadata": {},
   "outputs": [
    {
     "data": {
      "text/plain": [
       "11:00:00    1549\n",
       "19:00:00     507\n",
       "18:30:00     449\n",
       "12:00:00     300\n",
       "10:15:00     271\n",
       "07:00:00      85\n",
       "Name: departure_time, dtype: int64"
      ]
     },
     "execution_count": 29,
     "metadata": {},
     "output_type": "execute_result"
    }
   ],
   "source": [
    "cleanData.departure_time.value_counts()"
   ]
  },
  {
   "cell_type": "code",
   "execution_count": 30,
   "metadata": {},
   "outputs": [
    {
     "name": "stdout",
     "output_type": "stream",
     "text": [
      "The earliest departure time is 0 days 07:00:00\n",
      "The latest departure time is 0 days 19:00:00\n"
     ]
    }
   ],
   "source": [
    "print(\"The earliest departure time is {}\".format(cleanData.departure_time.min()))\n",
    "print(\"The latest departure time is {}\".format(cleanData.departure_time.max()))      "
   ]
  },
  {
   "cell_type": "markdown",
   "metadata": {},
   "source": [
    "The earliest departure time is **0700 hours** while the latest is **1900 hours**"
   ]
  },
  {
   "cell_type": "code",
   "execution_count": 31,
   "metadata": {
    "scrolled": true
   },
   "outputs": [
    {
     "data": {
      "text/html": [
       "<div>\n",
       "<style scoped>\n",
       "    .dataframe tbody tr th:only-of-type {\n",
       "        vertical-align: middle;\n",
       "    }\n",
       "\n",
       "    .dataframe tbody tr th {\n",
       "        vertical-align: top;\n",
       "    }\n",
       "\n",
       "    .dataframe thead th {\n",
       "        text-align: right;\n",
       "    }\n",
       "</style>\n",
       "<table border=\"1\" class=\"dataframe\">\n",
       "  <thead>\n",
       "    <tr style=\"text-align: right;\">\n",
       "      <th></th>\n",
       "      <th></th>\n",
       "      <th>advanceDays</th>\n",
       "    </tr>\n",
       "    <tr>\n",
       "      <th>departure_time</th>\n",
       "      <th>route_no</th>\n",
       "      <th></th>\n",
       "    </tr>\n",
       "  </thead>\n",
       "  <tbody>\n",
       "    <tr>\n",
       "      <th>07:00:00</th>\n",
       "      <th>226556</th>\n",
       "      <td>85.0</td>\n",
       "    </tr>\n",
       "    <tr>\n",
       "      <th>10:15:00</th>\n",
       "      <th>190716</th>\n",
       "      <td>271.0</td>\n",
       "    </tr>\n",
       "    <tr>\n",
       "      <th rowspan=\"2\" valign=\"top\">11:00:00</th>\n",
       "      <th>63912</th>\n",
       "      <td>768.0</td>\n",
       "    </tr>\n",
       "    <tr>\n",
       "      <th>63916</th>\n",
       "      <td>781.0</td>\n",
       "    </tr>\n",
       "    <tr>\n",
       "      <th>12:00:00</th>\n",
       "      <th>190808</th>\n",
       "      <td>300.0</td>\n",
       "    </tr>\n",
       "    <tr>\n",
       "      <th>18:30:00</th>\n",
       "      <th>9288</th>\n",
       "      <td>449.0</td>\n",
       "    </tr>\n",
       "    <tr>\n",
       "      <th>19:00:00</th>\n",
       "      <th>8192</th>\n",
       "      <td>507.0</td>\n",
       "    </tr>\n",
       "  </tbody>\n",
       "</table>\n",
       "</div>"
      ],
      "text/plain": [
       "                         advanceDays\n",
       "departure_time route_no             \n",
       "07:00:00       226556           85.0\n",
       "10:15:00       190716          271.0\n",
       "11:00:00       63912           768.0\n",
       "               63916           781.0\n",
       "12:00:00       190808          300.0\n",
       "18:30:00       9288            449.0\n",
       "19:00:00       8192            507.0"
      ]
     },
     "execution_count": 31,
     "metadata": {},
     "output_type": "execute_result"
    }
   ],
   "source": [
    "cleanData.groupby(by=['departure_time','route_no']).agg({'advanceDays':len})"
   ]
  },
  {
   "cell_type": "markdown",
   "metadata": {},
   "source": [
    "###### RouteNo & DepartureTime"
   ]
  },
  {
   "cell_type": "code",
   "execution_count": 32,
   "metadata": {},
   "outputs": [
    {
     "data": {
      "text/plain": [
       "<matplotlib.axes._subplots.AxesSubplot at 0x2647bb52f28>"
      ]
     },
     "execution_count": 32,
     "metadata": {},
     "output_type": "execute_result"
    },
    {
     "data": {
      "image/png": "[encoded data removed]",
      "text/plain": [
       "<Figure size 432x288 with 1 Axes>"
      ]
     },
     "metadata": {
      "image/png": {
       "height": 277,
       "width": 532
      },
      "needs_background": "light"
     },
     "output_type": "display_data"
    }
   ],
   "source": [
    "plt.xlabel('Average AdvanceBooking Days')\n",
    "plt.ylabel('Route No. & Departure Time')\n",
    "plt.title('Average Advance Booking Days across Routes & Daparture Time')\n",
    "cleanData.groupby(by=['departure_time','route_no'])['advanceDays'].mean().sort_values().plot(kind = 'barh',legend = True)"
   ]
  },
  {
   "cell_type": "markdown",
   "metadata": {},
   "source": [
    "At the **least frequent route** (226556) people tend to travel **early in morning (7am)** while on the **most frequent routes** (63912, 63916) prefer to travel **later in the day, 11am.**"
   ]
  },
  {
   "cell_type": "markdown",
   "metadata": {},
   "source": [
    "##### Does day of the week for travel date influence occupancy for different routes?"
   ]
  },
  {
   "cell_type": "code",
   "execution_count": 33,
   "metadata": {},
   "outputs": [
    {
     "data": {
      "text/plain": [
       "(Timestamp('2016-12-08 00:00:00'), Timestamp('2015-01-12 00:00:00'))"
      ]
     },
     "execution_count": 33,
     "metadata": {},
     "output_type": "execute_result"
    }
   ],
   "source": [
    "cleanData.order_date.max(), cleanData.order_date.min()"
   ]
  },
  {
   "cell_type": "code",
   "execution_count": 34,
   "metadata": {
    "scrolled": true
   },
   "outputs": [
    {
     "data": {
      "text/plain": [
       "(Timestamp('2016-12-09 00:00:00'), Timestamp('2015-02-12 00:00:00'))"
      ]
     },
     "execution_count": 34,
     "metadata": {},
     "output_type": "execute_result"
    }
   ],
   "source": [
    "cleanData.travel_date.max(), cleanData.travel_date.min()"
   ]
  },
  {
   "cell_type": "markdown",
   "metadata": {},
   "source": [
    "Passengers made orders between **2015-01-12** to **2016-12-08** for travel between **2015-02-12** to **2016-12-09**"
   ]
  },
  {
   "cell_type": "code",
   "execution_count": 35,
   "metadata": {
    "scrolled": false
   },
   "outputs": [
    {
     "data": {
      "text/html": [
       "<div>\n",
       "<style scoped>\n",
       "    .dataframe tbody tr th:only-of-type {\n",
       "        vertical-align: middle;\n",
       "    }\n",
       "\n",
       "    .dataframe tbody tr th {\n",
       "        vertical-align: top;\n",
       "    }\n",
       "\n",
       "    .dataframe thead th {\n",
       "        text-align: right;\n",
       "    }\n",
       "</style>\n",
       "<table border=\"1\" class=\"dataframe\">\n",
       "  <thead>\n",
       "    <tr style=\"text-align: right;\">\n",
       "      <th></th>\n",
       "      <th>order_date</th>\n",
       "      <th>route_no</th>\n",
       "      <th>from_stop</th>\n",
       "      <th>to_stop</th>\n",
       "      <th>departure_time</th>\n",
       "      <th>travel_date</th>\n",
       "      <th>passengers_booked_index</th>\n",
       "      <th>advanceDays</th>\n",
       "      <th>orderYear</th>\n",
       "      <th>travelYear</th>\n",
       "      <th>orderMonth</th>\n",
       "      <th>travelMonth</th>\n",
       "      <th>orderDate</th>\n",
       "      <th>travelDate</th>\n",
       "      <th>orderDay</th>\n",
       "      <th>travelDay</th>\n",
       "    </tr>\n",
       "  </thead>\n",
       "  <tbody>\n",
       "    <tr>\n",
       "      <th>0</th>\n",
       "      <td>2015-12-24</td>\n",
       "      <td>8192</td>\n",
       "      <td>2655</td>\n",
       "      <td>2790</td>\n",
       "      <td>19:00:00</td>\n",
       "      <td>2016-02-20</td>\n",
       "      <td>1.28547</td>\n",
       "      <td>58.0</td>\n",
       "      <td>2015</td>\n",
       "      <td>2016</td>\n",
       "      <td>12</td>\n",
       "      <td>2</td>\n",
       "      <td>24</td>\n",
       "      <td>20</td>\n",
       "      <td>3</td>\n",
       "      <td>5</td>\n",
       "    </tr>\n",
       "    <tr>\n",
       "      <th>1</th>\n",
       "      <td>2016-02-01</td>\n",
       "      <td>8192</td>\n",
       "      <td>2655</td>\n",
       "      <td>2790</td>\n",
       "      <td>19:00:00</td>\n",
       "      <td>2016-06-02</td>\n",
       "      <td>0.64260</td>\n",
       "      <td>122.0</td>\n",
       "      <td>2016</td>\n",
       "      <td>2016</td>\n",
       "      <td>2</td>\n",
       "      <td>6</td>\n",
       "      <td>1</td>\n",
       "      <td>2</td>\n",
       "      <td>0</td>\n",
       "      <td>3</td>\n",
       "    </tr>\n",
       "    <tr>\n",
       "      <th>2</th>\n",
       "      <td>2015-12-26</td>\n",
       "      <td>8192</td>\n",
       "      <td>2655</td>\n",
       "      <td>2790</td>\n",
       "      <td>19:00:00</td>\n",
       "      <td>2016-06-02</td>\n",
       "      <td>0.64260</td>\n",
       "      <td>159.0</td>\n",
       "      <td>2015</td>\n",
       "      <td>2016</td>\n",
       "      <td>12</td>\n",
       "      <td>6</td>\n",
       "      <td>26</td>\n",
       "      <td>2</td>\n",
       "      <td>5</td>\n",
       "      <td>3</td>\n",
       "    </tr>\n",
       "    <tr>\n",
       "      <th>3</th>\n",
       "      <td>2016-03-13</td>\n",
       "      <td>8192</td>\n",
       "      <td>2655</td>\n",
       "      <td>2790</td>\n",
       "      <td>19:00:00</td>\n",
       "      <td>2016-12-05</td>\n",
       "      <td>1.92834</td>\n",
       "      <td>267.0</td>\n",
       "      <td>2016</td>\n",
       "      <td>2016</td>\n",
       "      <td>3</td>\n",
       "      <td>12</td>\n",
       "      <td>13</td>\n",
       "      <td>5</td>\n",
       "      <td>6</td>\n",
       "      <td>0</td>\n",
       "    </tr>\n",
       "    <tr>\n",
       "      <th>4</th>\n",
       "      <td>2016-03-25</td>\n",
       "      <td>8192</td>\n",
       "      <td>2655</td>\n",
       "      <td>2790</td>\n",
       "      <td>19:00:00</td>\n",
       "      <td>2016-12-05</td>\n",
       "      <td>0.64260</td>\n",
       "      <td>255.0</td>\n",
       "      <td>2016</td>\n",
       "      <td>2016</td>\n",
       "      <td>3</td>\n",
       "      <td>12</td>\n",
       "      <td>25</td>\n",
       "      <td>5</td>\n",
       "      <td>4</td>\n",
       "      <td>0</td>\n",
       "    </tr>\n",
       "  </tbody>\n",
       "</table>\n",
       "</div>"
      ],
      "text/plain": [
       "  order_date  route_no  from_stop  to_stop departure_time travel_date  \\\n",
       "0 2015-12-24      8192       2655     2790       19:00:00  2016-02-20   \n",
       "1 2016-02-01      8192       2655     2790       19:00:00  2016-06-02   \n",
       "2 2015-12-26      8192       2655     2790       19:00:00  2016-06-02   \n",
       "3 2016-03-13      8192       2655     2790       19:00:00  2016-12-05   \n",
       "4 2016-03-25      8192       2655     2790       19:00:00  2016-12-05   \n",
       "\n",
       "   passengers_booked_index  advanceDays  orderYear  travelYear  orderMonth  \\\n",
       "0                  1.28547         58.0       2015        2016          12   \n",
       "1                  0.64260        122.0       2016        2016           2   \n",
       "2                  0.64260        159.0       2015        2016          12   \n",
       "3                  1.92834        267.0       2016        2016           3   \n",
       "4                  0.64260        255.0       2016        2016           3   \n",
       "\n",
       "   travelMonth  orderDate  travelDate  orderDay  travelDay  \n",
       "0            2         24          20         3          5  \n",
       "1            6          1           2         0          3  \n",
       "2            6         26           2         5          3  \n",
       "3           12         13           5         6          0  \n",
       "4           12         25           5         4          0  "
      ]
     },
     "execution_count": 35,
     "metadata": {},
     "output_type": "execute_result"
    }
   ],
   "source": [
    "# cleanData.loc[:,'orderDay'] = cleanData.order_date.dt.dayofweek\n",
    "# cleanData.loc[:,'travelDay'] = cleanData.travel_date.dt.dayofweek\n",
    "## Gives SettingWithCopyWarning\n",
    "\n",
    "orderYear = pd.Series(cleanData.order_date.dt.year, name ='orderYear' )\n",
    "travelYear = pd.Series(cleanData.travel_date.dt.year, name = 'travelYear')\n",
    "orderMonth= pd.Series(cleanData.order_date.dt.month,name = 'orderMonth')\n",
    "travelMonth = pd.Series(cleanData.travel_date.dt.month,name = 'travelMonth')\n",
    "orderDate = pd.Series(cleanData.order_date.dt.day,name = 'orderDate')\n",
    "travelDate = pd.Series(cleanData.travel_date.dt.day, name = 'travelDate')\n",
    "orderDay = pd.Series(cleanData.order_date.dt.dayofweek,name = 'orderDay')\n",
    "travelDay = pd.Series(cleanData.travel_date.dt.dayofweek, name = 'travelDay')\n",
    "cleanData = pd.concat([cleanData,orderYear,travelYear,orderMonth,travelMonth,orderDate,travelDate,orderDay,travelDay],axis =1)\n",
    "cleanData.head()"
   ]
  },
  {
   "cell_type": "markdown",
   "metadata": {},
   "source": [
    "The day of the week with **Monday=0, Sunday=6**"
   ]
  },
  {
   "cell_type": "markdown",
   "metadata": {},
   "source": [
    "###### RouteNo and DayOfWeekOfTravel"
   ]
  },
  {
   "cell_type": "code",
   "execution_count": 36,
   "metadata": {
    "scrolled": true
   },
   "outputs": [
    {
     "data": {
      "text/html": [
       "<div>\n",
       "<style scoped>\n",
       "    .dataframe tbody tr th:only-of-type {\n",
       "        vertical-align: middle;\n",
       "    }\n",
       "\n",
       "    .dataframe tbody tr th {\n",
       "        vertical-align: top;\n",
       "    }\n",
       "\n",
       "    .dataframe thead tr th {\n",
       "        text-align: left;\n",
       "    }\n",
       "\n",
       "    .dataframe thead tr:last-of-type th {\n",
       "        text-align: right;\n",
       "    }\n",
       "</style>\n",
       "<table border=\"1\" class=\"dataframe\">\n",
       "  <thead>\n",
       "    <tr>\n",
       "      <th></th>\n",
       "      <th colspan=\"7\" halign=\"left\">advanceDays</th>\n",
       "    </tr>\n",
       "    <tr>\n",
       "      <th>route_no</th>\n",
       "      <th>8192</th>\n",
       "      <th>9288</th>\n",
       "      <th>63912</th>\n",
       "      <th>63916</th>\n",
       "      <th>190716</th>\n",
       "      <th>190808</th>\n",
       "      <th>226556</th>\n",
       "    </tr>\n",
       "    <tr>\n",
       "      <th>travelDay</th>\n",
       "      <th></th>\n",
       "      <th></th>\n",
       "      <th></th>\n",
       "      <th></th>\n",
       "      <th></th>\n",
       "      <th></th>\n",
       "      <th></th>\n",
       "    </tr>\n",
       "  </thead>\n",
       "  <tbody>\n",
       "    <tr>\n",
       "      <th>0</th>\n",
       "      <td>39.0</td>\n",
       "      <td>6.0</td>\n",
       "      <td>107.0</td>\n",
       "      <td>152.0</td>\n",
       "      <td>52.0</td>\n",
       "      <td>76.0</td>\n",
       "      <td>7.0</td>\n",
       "    </tr>\n",
       "    <tr>\n",
       "      <th>1</th>\n",
       "      <td>13.0</td>\n",
       "      <td>92.0</td>\n",
       "      <td>122.0</td>\n",
       "      <td>130.0</td>\n",
       "      <td>34.0</td>\n",
       "      <td>59.0</td>\n",
       "      <td>22.0</td>\n",
       "    </tr>\n",
       "    <tr>\n",
       "      <th>2</th>\n",
       "      <td>3.0</td>\n",
       "      <td>186.0</td>\n",
       "      <td>88.0</td>\n",
       "      <td>99.0</td>\n",
       "      <td>20.0</td>\n",
       "      <td>26.0</td>\n",
       "      <td>23.0</td>\n",
       "    </tr>\n",
       "    <tr>\n",
       "      <th>3</th>\n",
       "      <td>208.0</td>\n",
       "      <td>82.0</td>\n",
       "      <td>39.0</td>\n",
       "      <td>34.0</td>\n",
       "      <td>5.0</td>\n",
       "      <td>5.0</td>\n",
       "      <td>18.0</td>\n",
       "    </tr>\n",
       "    <tr>\n",
       "      <th>4</th>\n",
       "      <td>131.0</td>\n",
       "      <td>32.0</td>\n",
       "      <td>135.0</td>\n",
       "      <td>88.0</td>\n",
       "      <td>45.0</td>\n",
       "      <td>27.0</td>\n",
       "      <td>NaN</td>\n",
       "    </tr>\n",
       "    <tr>\n",
       "      <th>5</th>\n",
       "      <td>94.0</td>\n",
       "      <td>50.0</td>\n",
       "      <td>111.0</td>\n",
       "      <td>102.0</td>\n",
       "      <td>48.0</td>\n",
       "      <td>37.0</td>\n",
       "      <td>5.0</td>\n",
       "    </tr>\n",
       "    <tr>\n",
       "      <th>6</th>\n",
       "      <td>19.0</td>\n",
       "      <td>1.0</td>\n",
       "      <td>166.0</td>\n",
       "      <td>176.0</td>\n",
       "      <td>67.0</td>\n",
       "      <td>70.0</td>\n",
       "      <td>10.0</td>\n",
       "    </tr>\n",
       "  </tbody>\n",
       "</table>\n",
       "</div>"
      ],
      "text/plain": [
       "          advanceDays                                          \n",
       "route_no       8192   9288   63912  63916  190716 190808 226556\n",
       "travelDay                                                      \n",
       "0                39.0    6.0  107.0  152.0   52.0   76.0    7.0\n",
       "1                13.0   92.0  122.0  130.0   34.0   59.0   22.0\n",
       "2                 3.0  186.0   88.0   99.0   20.0   26.0   23.0\n",
       "3               208.0   82.0   39.0   34.0    5.0    5.0   18.0\n",
       "4               131.0   32.0  135.0   88.0   45.0   27.0    NaN\n",
       "5                94.0   50.0  111.0  102.0   48.0   37.0    5.0\n",
       "6                19.0    1.0  166.0  176.0   67.0   70.0   10.0"
      ]
     },
     "execution_count": 36,
     "metadata": {},
     "output_type": "execute_result"
    }
   ],
   "source": [
    "table = pd.pivot_table(index = ['travelDay','route_no'],values = 'advanceDays',aggfunc = len, data = cleanData).unstack()\n",
    "table"
   ]
  },
  {
   "cell_type": "markdown",
   "metadata": {},
   "source": [
    "- **Minimum ridership on 63912** is **more** than the **maximum ridership on 226556** on any given day\n",
    "\n",
    "- **63912** sees **max ridership** near **weekends** i.e. days 5,6,0 & 1. \n",
    "\n",
    "- It points that this route connects 2 towns or a town and a weekend getaway.\n",
    "\n",
    "- Thus passengers use tis route travel back and forth between work location and weekend stays (holiday homes or hometowns)\n",
    "\n",
    "- Route no. **8192** and **9288** see **max** ridership in **weekdays** thus passengers use them for daily commute between office and home"
   ]
  },
  {
   "cell_type": "markdown",
   "metadata": {},
   "source": [
    "###### DayOfWeek & Orders"
   ]
  },
  {
   "cell_type": "code",
   "execution_count": 37,
   "metadata": {
    "scrolled": false
   },
   "outputs": [
    {
     "data": {
      "text/plain": [
       "<matplotlib.axes._subplots.AxesSubplot at 0x2647bc20c18>"
      ]
     },
     "execution_count": 37,
     "metadata": {},
     "output_type": "execute_result"
    },
    {
     "data": {
      "image/png": "[encoded data removed]",
      "text/plain": [
       "<Figure size 576x288 with 1 Axes>"
      ]
     },
     "metadata": {
      "image/png": {
       "height": 277,
       "width": 487
      },
      "needs_background": "light"
     },
     "output_type": "display_data"
    }
   ],
   "source": [
    "plt.figure(figsize = (8,4))\n",
    "plt.xlabel('% Order count')\n",
    "plt.ylabel('DayOfWeek')\n",
    "plt.title('DayOfWeek influence on Orders')\n",
    "cleanData.orderDay.value_counts(normalize = True).sort_values().plot(kind='barh',legend = True)"
   ]
  },
  {
   "cell_type": "markdown",
   "metadata": {},
   "source": [
    "- **Max** orders are placed on **Sunday(6)**\n",
    "- **Min** orders are placed on **Tuesday(1)**"
   ]
  },
  {
   "cell_type": "markdown",
   "metadata": {},
   "source": [
    "###### DayOfWeek & Travel"
   ]
  },
  {
   "cell_type": "code",
   "execution_count": 38,
   "metadata": {
    "scrolled": true
   },
   "outputs": [
    {
     "data": {
      "text/plain": [
       "<matplotlib.axes._subplots.AxesSubplot at 0x2647bcad048>"
      ]
     },
     "execution_count": 38,
     "metadata": {},
     "output_type": "execute_result"
    },
    {
     "data": {
      "image/png": "[encoded data removed]",
      "text/plain": [
       "<Figure size 576x288 with 1 Axes>"
      ]
     },
     "metadata": {
      "image/png": {
       "height": 277,
       "width": 487
      },
      "needs_background": "light"
     },
     "output_type": "display_data"
    }
   ],
   "source": [
    "plt.figure(figsize = (8,4))\n",
    "plt.xlabel('% Travel count')\n",
    "plt.ylabel('DayOfWeek')\n",
    "plt.title('DayOfWeek influence on Travel')\n",
    "cleanData.travelDay.value_counts(normalize = True).sort_values().plot(kind='barh',legend = True)"
   ]
  },
  {
   "cell_type": "markdown",
   "metadata": {},
   "source": [
    "- **Max** passengers prefer to travel on **Sunday(6)**\n",
    "- **Min** passengers prefer to travel **Thursday(3)**"
   ]
  },
  {
   "cell_type": "markdown",
   "metadata": {},
   "source": [
    "###### DateOfMonth & Orders"
   ]
  },
  {
   "cell_type": "code",
   "execution_count": 39,
   "metadata": {},
   "outputs": [
    {
     "data": {
      "text/plain": [
       "<matplotlib.axes._subplots.AxesSubplot at 0x2647bf6f7b8>"
      ]
     },
     "execution_count": 39,
     "metadata": {},
     "output_type": "execute_result"
    },
    {
     "data": {
      "image/png": "[encoded data removed]",
      "text/plain": [
       "<Figure size 720x432 with 1 Axes>"
      ]
     },
     "metadata": {
      "image/png": {
       "height": 389,
       "width": 615
      },
      "needs_background": "light"
     },
     "output_type": "display_data"
    }
   ],
   "source": [
    "plt.figure(figsize = (10,6))\n",
    "plt.ylabel('% Order count')\n",
    "plt.xlabel('DateOfMonth')\n",
    "plt.title('DateOfMonth influence on Orders')\n",
    "cleanData.orderDate.value_counts(normalize = True).sort_values().plot(kind='bar', legend = True)"
   ]
  },
  {
   "cell_type": "markdown",
   "metadata": {},
   "source": [
    "###### DateOfMonth & Travel"
   ]
  },
  {
   "cell_type": "code",
   "execution_count": 40,
   "metadata": {},
   "outputs": [
    {
     "data": {
      "text/plain": [
       "<matplotlib.axes._subplots.AxesSubplot at 0x2647bf6f128>"
      ]
     },
     "execution_count": 40,
     "metadata": {},
     "output_type": "execute_result"
    },
    {
     "data": {
      "image/png": "[encoded data removed]",
      "text/plain": [
       "<Figure size 720x432 with 1 Axes>"
      ]
     },
     "metadata": {
      "image/png": {
       "height": 389,
       "width": 615
      },
      "needs_background": "light"
     },
     "output_type": "display_data"
    }
   ],
   "source": [
    "plt.figure(figsize = (10,6))\n",
    "plt.ylabel('% Travel count')\n",
    "plt.xlabel('DateOfMonth')\n",
    "plt.title('DateOfMonth influence on Travel')\n",
    "cleanData.travelDate.value_counts(normalize = True).sort_values().plot(kind='bar', legend = True)"
   ]
  },
  {
   "cell_type": "markdown",
   "metadata": {},
   "source": [
    "- Passengers tend to **travel** near **end of month** (25th to 28th)\n",
    "- For this they make **orders** a **week to 10 days** in advance(13th to 15th)"
   ]
  },
  {
   "cell_type": "markdown",
   "metadata": {},
   "source": [
    "###### Month & Orders"
   ]
  },
  {
   "cell_type": "code",
   "execution_count": 41,
   "metadata": {},
   "outputs": [
    {
     "data": {
      "text/plain": [
       "<matplotlib.axes._subplots.AxesSubplot at 0x2647c489278>"
      ]
     },
     "execution_count": 41,
     "metadata": {},
     "output_type": "execute_result"
    },
    {
     "data": {
      "image/png": "[encoded data removed]",
      "text/plain": [
       "<Figure size 720x432 with 1 Axes>"
      ]
     },
     "metadata": {
      "image/png": {
       "height": 389,
       "width": 615
      },
      "needs_background": "light"
     },
     "output_type": "display_data"
    }
   ],
   "source": [
    "plt.figure(figsize = (10,6))\n",
    "plt.ylabel('% Order count')\n",
    "plt.xlabel('Month')\n",
    "plt.title('Month influence on Orders')\n",
    "cleanData.orderMonth.value_counts(normalize = True).sort_values().plot(kind='bar', legend = True)"
   ]
  },
  {
   "cell_type": "markdown",
   "metadata": {},
   "source": [
    "###### Month & travel"
   ]
  },
  {
   "cell_type": "code",
   "execution_count": 42,
   "metadata": {},
   "outputs": [
    {
     "data": {
      "text/plain": [
       "<matplotlib.axes._subplots.AxesSubplot at 0x2647c391cf8>"
      ]
     },
     "execution_count": 42,
     "metadata": {},
     "output_type": "execute_result"
    },
    {
     "data": {
      "image/png": "[encoded data removed]",
      "text/plain": [
       "<Figure size 720x432 with 1 Axes>"
      ]
     },
     "metadata": {
      "image/png": {
       "height": 389,
       "width": 621
      },
      "needs_background": "light"
     },
     "output_type": "display_data"
    }
   ],
   "source": [
    "plt.figure(figsize = (10,6))\n",
    "plt.ylabel('% Order count')\n",
    "plt.xlabel('Month')\n",
    "plt.title('Month influence on travel')\n",
    "cleanData.travelMonth.value_counts(normalize = True).sort_values().plot(kind='bar', legend = True)"
   ]
  },
  {
   "cell_type": "markdown",
   "metadata": {},
   "source": [
    "- Passengers make **bookings early in the year** i.e. **January to July** (1 to 7) \n",
    "- Passengers prefer to **travel mostly near mid year** (4,5,6,7) due to several reasons\n",
    " - festive season\n",
    " - summer vacation at work/kids\n",
    " - less workload\n",
    " - seasonal holiday spots\n",
    " - pleasant weather"
   ]
  },
  {
   "cell_type": "markdown",
   "metadata": {},
   "source": [
    "###### Year & Orders"
   ]
  },
  {
   "cell_type": "code",
   "execution_count": 43,
   "metadata": {},
   "outputs": [
    {
     "name": "stdout",
     "output_type": "stream",
     "text": [
      "2015-01-12 00:00:00\n",
      "2015-12-30 00:00:00\n",
      "2016-01-01 00:00:00\n",
      "2016-12-08 00:00:00\n"
     ]
    }
   ],
   "source": [
    "print(cleanData.loc[cleanData.orderYear== 2015, 'order_date'].min())\n",
    "print(cleanData.loc[cleanData.orderYear== 2015, 'order_date'].max())\n",
    "print(cleanData.loc[cleanData.orderYear== 2016, 'order_date'].min())\n",
    "print(cleanData.loc[cleanData.orderYear== 2016, 'order_date'].max())"
   ]
  },
  {
   "cell_type": "code",
   "execution_count": 44,
   "metadata": {},
   "outputs": [
    {
     "data": {
      "text/plain": [
       "2016    0.915849\n",
       "2015    0.084151\n",
       "Name: orderYear, dtype: float64"
      ]
     },
     "execution_count": 44,
     "metadata": {},
     "output_type": "execute_result"
    }
   ],
   "source": [
    "cleanData.orderYear.value_counts(normalize=True)"
   ]
  },
  {
   "cell_type": "code",
   "execution_count": 45,
   "metadata": {},
   "outputs": [
    {
     "data": {
      "text/plain": [
       "<matplotlib.axes._subplots.AxesSubplot at 0x2647c431a58>"
      ]
     },
     "execution_count": 45,
     "metadata": {},
     "output_type": "execute_result"
    },
    {
     "data": {
      "image/png": "[encoded data removed]",
      "text/plain": [
       "<Figure size 432x288 with 1 Axes>"
      ]
     },
     "metadata": {
      "image/png": {
       "height": 293,
       "width": 385
      },
      "needs_background": "light"
     },
     "output_type": "display_data"
    }
   ],
   "source": [
    "plt.ylabel('% Order count')\n",
    "plt.xlabel('Year')\n",
    "plt.title('Year influence on Orders')\n",
    "cleanData.orderYear.value_counts(normalize=True).sort_values().plot(kind='bar',legend = True)"
   ]
  },
  {
   "cell_type": "markdown",
   "metadata": {},
   "source": [
    "###### Year & Travel"
   ]
  },
  {
   "cell_type": "code",
   "execution_count": 46,
   "metadata": {},
   "outputs": [
    {
     "name": "stdout",
     "output_type": "stream",
     "text": [
      "2015-02-12 00:00:00\n",
      "2015-12-30 00:00:00\n",
      "2016-01-02 00:00:00\n",
      "2016-12-09 00:00:00\n"
     ]
    }
   ],
   "source": [
    "print(cleanData.loc[cleanData.travelYear== 2015, 'travel_date'].min())\n",
    "print(cleanData.loc[cleanData.travelYear== 2015, 'travel_date'].max())\n",
    "print(cleanData.loc[cleanData.travelYear== 2016, 'travel_date'].min())\n",
    "print(cleanData.loc[cleanData.travelYear== 2016, 'travel_date'].max())"
   ]
  },
  {
   "cell_type": "code",
   "execution_count": 47,
   "metadata": {},
   "outputs": [
    {
     "data": {
      "text/plain": [
       "2016    0.928504\n",
       "2015    0.071496\n",
       "Name: travelYear, dtype: float64"
      ]
     },
     "execution_count": 47,
     "metadata": {},
     "output_type": "execute_result"
    }
   ],
   "source": [
    "cleanData.travelYear.value_counts(normalize=True)"
   ]
  },
  {
   "cell_type": "code",
   "execution_count": 48,
   "metadata": {},
   "outputs": [
    {
     "data": {
      "text/plain": [
       "<matplotlib.axes._subplots.AxesSubplot at 0x2647c4c7dd8>"
      ]
     },
     "execution_count": 48,
     "metadata": {},
     "output_type": "execute_result"
    },
    {
     "data": {
      "image/png": "[encoded data removed]",
      "text/plain": [
       "<Figure size 432x288 with 1 Axes>"
      ]
     },
     "metadata": {
      "image/png": {
       "height": 293,
       "width": 385
      },
      "needs_background": "light"
     },
     "output_type": "display_data"
    }
   ],
   "source": [
    "plt.ylabel('% Travel count')\n",
    "plt.xlabel('Year')\n",
    "plt.title('Year influence on travel')\n",
    "cleanData.orderYear.value_counts(normalize=True).sort_values().plot(kind='bar',legend = True)"
   ]
  },
  {
   "cell_type": "code",
   "execution_count": 49,
   "metadata": {},
   "outputs": [
    {
     "name": "stdout",
     "output_type": "stream",
     "text": [
      "266\n",
      "2895\n"
     ]
    }
   ],
   "source": [
    "print(cleanData.loc[cleanData.orderYear== 2015, 'order_date'].count())\n",
    "print(cleanData.loc[cleanData.orderYear== 2016, 'order_date'].count())"
   ]
  },
  {
   "cell_type": "markdown",
   "metadata": {},
   "source": [
    "Thus bookings grew from **266 in 2015** to **2895 in 2016** which is **~10times increase**"
   ]
  }
 ],
 "metadata": {
  "kernelspec": {
   "display_name": "Python 3",
   "language": "python",
   "name": "python3"
  },
  "language_info": {
   "codemirror_mode": {
    "name": "ipython",
    "version": 3
   },
   "file_extension": ".py",
   "mimetype": "text/x-python",
   "name": "python",
   "nbconvert_exporter": "python",
   "pygments_lexer": "ipython3",
   "version": "3.6.5"
  },
  "toc": {
   "base_numbering": 1,
   "nav_menu": {},
   "number_sections": true,
   "sideBar": true,
   "skip_h1_title": false,
   "title_cell": "Table of Contents",
   "title_sidebar": "Contents",
   "toc_cell": false,
   "toc_position": {
    "height": "calc(100% - 180px)",
    "left": "10px",
    "top": "150px",
    "width": "187.96px"
   },
   "toc_section_display": true,
   "toc_window_display": true
  }
 },
 "nbformat": 4,
 "nbformat_minor": 2
}
